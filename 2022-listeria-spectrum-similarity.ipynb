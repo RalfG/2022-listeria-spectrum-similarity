{
 "cells": [
  {
   "cell_type": "code",
   "execution_count": 1,
   "id": "5293026d",
   "metadata": {},
   "outputs": [],
   "source": [
    "import os\n",
    "\n",
    "import numpy as np\n",
    "import pandas as pd\n",
    "import matplotlib.pyplot as plt\n",
    "from pyteomics import proforma, mass\n",
    "import spectrum_utils.spectrum as sus\n",
    "import spectrum_utils.plot as sup"
   ]
  },
  {
   "cell_type": "code",
   "execution_count": 2,
   "id": "cf424a1c",
   "metadata": {},
   "outputs": [],
   "source": [
    "def proforma_to_sus_modifications(proforma_sequence):\n",
    "    \"\"\"Modifications dictionary for spectrum_utils.spectrum.\"\"\"\n",
    "    sus_mods = dict()\n",
    "    parsed_sequence, modifiers = proforma.parse(proforma_sequence)\n",
    "\n",
    "    for i, (_, mods) in enumerate(parsed_sequence):\n",
    "        if mods:\n",
    "            sus_mods[i] = sum(mod.mass for mod in mods)\n",
    "    if modifiers[\"n_term\"]:\n",
    "        sus_mods[\"N-term\"] = sum(mod.mass for mod in modifiers[\"n_term\"])\n",
    "    if modifiers[\"c_term\"]:\n",
    "        sus_mods[\"C-term\"] = sum(mod.mass for mod in modifiers[\"c_term\"])\n",
    "    return sus_mods\n",
    "\n",
    "def _sus_annotation_to_index(ann, num_ions):\n",
    "    \"\"\"Convert spectrum_utils annotation to correct array index.\"\"\"\n",
    "    col_indices = {\n",
    "        (\"a\", 1): 0,\n",
    "        (\"b\", 1): 1,\n",
    "        (\"y\", 1): 2,\n",
    "        (\"a\", 2): 3,\n",
    "        (\"b\", 2): 4,\n",
    "        (\"y\", 2): 5\n",
    "    }\n",
    "    return col_indices[ann.ion_type, ann.charge], ann.ion_index - 1\n",
    "\n",
    "def _get_intensities_spectrum_utils(sus_spectrum):\n",
    "    \"\"\"Ëxtract fragment ion intensities from spectrum using spectrum_utils.\"\"\"\n",
    "    num_ions = len(sus_spectrum.peptide) - 1\n",
    "    x, y = np.vectorize(_sus_annotation_to_index)(\n",
    "        sus_spectrum.annotation[sus_spectrum.annotation != None], num_ions\n",
    "    )\n",
    "    intensities = np.full((6, num_ions), 0.0)  # Set full array to nan\n",
    "    intensities[x, y] = sus_spectrum.intensity[sus_spectrum.annotation != None]\n",
    "    return intensities.flatten()"
   ]
  },
  {
   "cell_type": "code",
   "execution_count": 3,
   "id": "58c7bf64",
   "metadata": {},
   "outputs": [],
   "source": [
    "def process_peptide(proforma_seq, correlations):\n",
    "    parsed_sequence, modifiers = proforma.parse(proforma_seq)\n",
    "    sequence = \"\".join([p[0] for p in parsed_sequence])\n",
    "    \n",
    "    spectrum_syn_df = pd.read_csv(f\"input/spectra/MS2 spectra - synthetic - {sequence}.csv\", dtype=np.float32).dropna()\n",
    "    spectrum_obs_df = pd.read_csv(f\"input/spectra/MS2 spectra - Listeria - {sequence}.csv\", dtype=np.float32).dropna()\n",
    "    \n",
    "    spectrum_syn = (\n",
    "        sus.MsmsSpectrum(\n",
    "            identifier=proforma_seq + \" (synthetic)\",\n",
    "            precursor_mz=mass.calculate_mass(sequence, charge=modifiers[\"charge_state\"].charge),\n",
    "            precursor_charge=modifiers[\"charge_state\"].charge,\n",
    "            mz=spectrum_syn_df[\"MS2 m/z\"],\n",
    "            intensity=spectrum_syn_df[\"Relative Intensity in %\"],\n",
    "            peptide=sequence,\n",
    "            modifications=proforma_to_sus_modifications(proforma_seq)\n",
    "        )\n",
    "        .annotate_peptide_fragments(50, \"ppm\", ion_types='aby')\n",
    "        .remove_precursor_peak(50, \"ppm\", isotope=2)\n",
    "        .filter_intensity(min_intensity=0.05)\n",
    "    )\n",
    "    \n",
    "    spectrum_obs = (sus.MsmsSpectrum(\n",
    "            identifier=proforma_seq + \" (Listeria)\",\n",
    "            precursor_mz=mass.calculate_mass(sequence, charge=modifiers[\"charge_state\"].charge),\n",
    "            precursor_charge=modifiers[\"charge_state\"].charge,\n",
    "            mz=spectrum_obs_df[\"MS2 m/z\"],\n",
    "            intensity=spectrum_obs_df[\"Relative Intensity in %\"],\n",
    "            peptide=sequence,\n",
    "            modifications=proforma_to_sus_modifications(proforma_seq)\n",
    "        )\n",
    "        .annotate_peptide_fragments(50, \"ppm\", ion_types='aby')\n",
    "        .remove_precursor_peak(50, \"ppm\", isotope=2)\n",
    "        .filter_intensity(min_intensity=0.05)\n",
    "    )\n",
    "\n",
    "    # Extract annotated ions and calculate correlations\n",
    "    annotated_ions_syn = _get_intensities_spectrum_utils(spectrum_syn)\n",
    "    annotated_ions_obs = _get_intensities_spectrum_utils(spectrum_obs)\n",
    "    corr = np.corrcoef(annotated_ions_obs, annotated_ions_syn)[0,1]\n",
    "    \n",
    "    correlations.append([proforma_seq, corr])  #, corr_log])\n",
    "    \n",
    "    plt.title(f\"{proforma_seq} ({corr:.4f})\")\n",
    "    sup.mirror(spectrum_obs, spectrum_syn)\n",
    "    plt.savefig(f\"output/mirror-plots/{sequence}.svg\", dpi=300, transparent=True, bbox_inches=\"tight\")\n",
    "    plt.show()"
   ]
  },
  {
   "cell_type": "code",
   "execution_count": 4,
   "id": "8de6ee18",
   "metadata": {},
   "outputs": [
    {
     "data": {
      "text/html": [
       "<div>\n",
       "<style scoped>\n",
       "    .dataframe tbody tr th:only-of-type {\n",
       "        vertical-align: middle;\n",
       "    }\n",
       "\n",
       "    .dataframe tbody tr th {\n",
       "        vertical-align: top;\n",
       "    }\n",
       "\n",
       "    .dataframe thead th {\n",
       "        text-align: right;\n",
       "    }\n",
       "</style>\n",
       "<table border=\"1\" class=\"dataframe\">\n",
       "  <thead>\n",
       "    <tr style=\"text-align: right;\">\n",
       "      <th></th>\n",
       "      <th>proforma</th>\n",
       "    </tr>\n",
       "  </thead>\n",
       "  <tbody>\n",
       "    <tr>\n",
       "      <th>0</th>\n",
       "      <td>VAYGRQVYL/2</td>\n",
       "    </tr>\n",
       "  </tbody>\n",
       "</table>\n",
       "</div>"
      ],
      "text/plain": [
       "      proforma\n",
       "0  VAYGRQVYL/2"
      ]
     },
     "execution_count": 4,
     "metadata": {},
     "output_type": "execute_result"
    }
   ],
   "source": [
    "peptide_df = pd.read_csv(\"input/peptides.csv\")\n",
    "peptide_df"
   ]
  },
  {
   "cell_type": "code",
   "execution_count": 5,
   "id": "ef795ba6",
   "metadata": {
    "scrolled": false
   },
   "outputs": [
    {
     "data": {
      "image/png": "[encoded data removed]",
      "text/plain": [
       "<Figure size 432x288 with 1 Axes>"
      ]
     },
     "metadata": {
      "needs_background": "light"
     },
     "output_type": "display_data"
    }
   ],
   "source": [
    "try:\n",
    "    os.mkdir(\"output/mirror-plots\")\n",
    "except FileExistsError:\n",
    "    pass\n",
    "\n",
    "correlations = []\n",
    "\n",
    "for proforma_seq in peptide_df['proforma'].values:\n",
    "    process_peptide(proforma_seq, correlations)"
   ]
  },
  {
   "cell_type": "code",
   "execution_count": 6,
   "id": "15a1bc54",
   "metadata": {},
   "outputs": [
    {
     "data": {
      "text/html": [
       "<div>\n",
       "<style scoped>\n",
       "    .dataframe tbody tr th:only-of-type {\n",
       "        vertical-align: middle;\n",
       "    }\n",
       "\n",
       "    .dataframe tbody tr th {\n",
       "        vertical-align: top;\n",
       "    }\n",
       "\n",
       "    .dataframe thead th {\n",
       "        text-align: right;\n",
       "    }\n",
       "</style>\n",
       "<table border=\"1\" class=\"dataframe\">\n",
       "  <thead>\n",
       "    <tr style=\"text-align: right;\">\n",
       "      <th></th>\n",
       "      <th>peptide</th>\n",
       "      <th>correlation</th>\n",
       "    </tr>\n",
       "  </thead>\n",
       "  <tbody>\n",
       "    <tr>\n",
       "      <th>0</th>\n",
       "      <td>VAYGRQVYL/2</td>\n",
       "      <td>0.979349</td>\n",
       "    </tr>\n",
       "  </tbody>\n",
       "</table>\n",
       "</div>"
      ],
      "text/plain": [
       "       peptide  correlation\n",
       "0  VAYGRQVYL/2     0.979349"
      ]
     },
     "execution_count": 6,
     "metadata": {},
     "output_type": "execute_result"
    }
   ],
   "source": [
    "corr_df = pd.DataFrame(correlations, columns=[\"peptide\", \"correlation\"])\n",
    "corr_df"
   ]
  },
  {
   "cell_type": "code",
   "execution_count": 7,
   "id": "e764c55c",
   "metadata": {},
   "outputs": [],
   "source": [
    "corr_df.to_csv(\"output/correlations.csv\", index=False)"
   ]
  }
 ],
 "metadata": {
  "interpreter": {
   "hash": "147c5154ad97b998d5ccd568e4270d5bbc5a7a51aa1ab3b4f8606c814593f370"
  },
  "kernelspec": {
   "display_name": "py37",
   "language": "python",
   "name": "python3"
  },
  "language_info": {
   "codemirror_mode": {
    "name": "ipython",
    "version": 3
   },
   "file_extension": ".py",
   "mimetype": "text/x-python",
   "name": "python",
   "nbconvert_exporter": "python",
   "pygments_lexer": "ipython3",
   "version": "3.7.12"
  }
 },
 "nbformat": 4,
 "nbformat_minor": 5
}
